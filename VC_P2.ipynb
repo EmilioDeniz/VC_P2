{
 "cells": [
  {
   "cell_type": "markdown",
   "metadata": {},
   "source": [
    "#Paquetes necesarios"
   ]
  },
  {
   "cell_type": "code",
   "execution_count": 1,
   "metadata": {},
   "outputs": [],
   "source": [
    "import cv2  \n",
    "import numpy as np\n",
    "import matplotlib.pyplot as plt"
   ]
  },
  {
   "cell_type": "markdown",
   "metadata": {},
   "source": [
    "Carga imagenes desde archivo"
   ]
  },
  {
   "cell_type": "code",
   "execution_count": null,
   "metadata": {},
   "outputs": [],
   "source": [
    "#Lee imagen de archivo\n",
    "img = cv2.imread('mandril.jpg') \n",
    "img2 = cv2.imread('img.jpg')"
   ]
  },
  {
   "cell_type": "markdown",
   "metadata": {},
   "source": [
    "Convierte a grises para procesar"
   ]
  },
  {
   "cell_type": "code",
   "execution_count": null,
   "metadata": {},
   "outputs": [],
   "source": [
    "#Conversión a grises de la original en BGR\n",
    "gris = cv2.cvtColor(img, cv2.COLOR_BGR2GRAY)\n",
    "gris2 = cv2.cvtColor(img2, cv2.COLOR_BGR2GRAY)\n",
    "\n",
    "print(gris.shape)\n",
    "#Muestra, indicando el mapa de color de grises\n",
    "#Eliminamos etiquetas de los ejes\n",
    "plt.figure()\n",
    "plt.axis(\"off\")\n",
    "plt.imshow(gris, cmap='gray') \n",
    "plt.show()\n",
    "\n",
    "plt.figure()\n",
    "plt.axis(\"off\")\n",
    "plt.imshow(gris2, cmap='gray') \n",
    "plt.show()\n"
   ]
  },
  {
   "cell_type": "markdown",
   "metadata": {},
   "source": [
    "Canny, detector de bordes multietapa. Tratado en el tema 4"
   ]
  },
  {
   "cell_type": "code",
   "execution_count": null,
   "metadata": {},
   "outputs": [],
   "source": [
    "#Obtiene contornos con el operador de Canny\n",
    "canny = cv2.Canny(gris, 100, 200)\n",
    "print(canny)\n",
    "#Muestra resultado\n",
    "plt.imshow(canny, cmap='gray') \n",
    "plt.show()\n"
   ]
  },
  {
   "cell_type": "markdown",
   "metadata": {},
   "source": [
    "Definida la imagen de salida de Canny, salida 0 o 255, obtiene el número de píxeles no nulos por columna y visualiza"
   ]
  },
  {
   "cell_type": "code",
   "execution_count": null,
   "metadata": {},
   "outputs": [],
   "source": [
    "#Si muestras el contenido de la imagen resultado, son valores 0 o 255\n",
    "#print(canny)\n",
    "#Cuenta el número de píxeles blancos (255) por columna\n",
    "#Suma los valores de los pixeles por columna\n",
    "col_counts = cv2.reduce(canny, 0, cv2.REDUCE_SUM, dtype=cv2.CV_32SC1)\n",
    "row_counts = cv2.reduce(canny, 1, cv2.REDUCE_SUM, dtype=cv2.CV_32SC1)\n",
    "\n",
    "#Normaliza en base al número de filas y al valor máximo del píxel (255)\n",
    "#El resultado será el número de píxeles blancos por columna\n",
    "cols = col_counts[0] / (255 * canny.shape[0])\n",
    "rows = row_counts[:,0] / (255 * canny.shape[1])\n",
    "\n",
    "# Encuentra el máximo valor para filas y columnas\n",
    "max_row_value = row_counts.max()\n",
    "max_col_value = col_counts.max()\n",
    "\n",
    "# Encuentra el umbral para superar el 95% del máximo\n",
    "threshold_row = 0.95 * max_row_value\n",
    "threshold_col = 0.95 * max_col_value\n",
    "\n",
    "# Encuentra el número de valores que superan el umbral para filas y columnas\n",
    "num_values_above_threshold_row = len(row_counts[row_counts > threshold_row])\n",
    "num_values_above_threshold_col = len(col_counts[col_counts > threshold_col])\n",
    "\n",
    "print(f\"El máximo valor para filas es: {max_row_value}\")\n",
    "print(f\"El máximo valor para columnas es: {max_col_value}\")\n",
    "print(f\"Número de valores que superan el 95% del máximo en filas: {num_values_above_threshold_row}\")\n",
    "print(f\"Número de valores que superan el 95% del máximo en columnas: {num_values_above_threshold_col}\")\n",
    "\n",
    "#Muestra dicha cuenta gráficamente\n",
    "plt.figure(figsize=(15, 5))\n",
    "plt.subplot(1, 3, 1)\n",
    "plt.axis(\"off\")\n",
    "plt.title(\"Canny\")\n",
    "plt.imshow(canny, cmap='gray') \n",
    "\n",
    "plt.subplot(1, 3, 2)\n",
    "plt.title(\"Respuesta de Canny\")\n",
    "plt.xlabel(\"Columnas\")\n",
    "plt.ylabel(\"% píxeles\")\n",
    "plt.plot(cols)\n",
    "\n",
    "plt.subplot(1, 3, 3)\n",
    "plt.title(\"Respuesta de Canny\")\n",
    "plt.xlabel(\"Filas\")\n",
    "plt.ylabel(\"% píxeles\")\n",
    "plt.plot(rows)\n",
    "\n",
    "plt.subplots_adjust(wspace=0.4)  \n",
    "plt.subplots_adjust(hspace=0.4) \n",
    "\n",
    "#Rango en x definido por las columnas\n",
    "plt.xlim([0, canny.shape[0]])"
   ]
  },
  {
   "cell_type": "markdown",
   "metadata": {},
   "source": [
    "TAREA: Realiza la cuenta de píxeles blancos por filas, determina el máximo para filas y columnas (uno para cada) y muestra el número de valores que superan en cada caso 0.95*máximo."
   ]
  },
  {
   "cell_type": "markdown",
   "metadata": {},
   "source": [
    "Sobel. Cuando hay un borde, el valor de intensidad de los píxeles cercanos cambia de forma notable, calcular las derivadas proporciona una evidencia de dicho cambio. El operador de Sobel aproximar el cálculo de la derivada aplicando un kernel de tamaño impar basado en el patrón [1 2 1]"
   ]
  },
  {
   "cell_type": "code",
   "execution_count": null,
   "metadata": {},
   "outputs": [],
   "source": [
    "# Gaussiana para suavizar la imagen original\n",
    "ggris = cv2.GaussianBlur(gris2, (3, 3), 0)\n",
    "\n",
    "#Calcula en ambas direcciones (horizontal y vertical)\n",
    "sobelx = cv2.Sobel(ggris, cv2.CV_64F, 1, 0)  # x\n",
    "sobely = cv2.Sobel(ggris, cv2.CV_64F, 0, 1)  # y\n",
    "#Combina ambos resultados\n",
    "sobel = cv2.add(sobelx, sobely)\n",
    "\n",
    "#Muestra ambos resultados\n",
    "plt.figure(figsize=(30, 10))\n",
    "plt.subplot(1, 4, 1)\n",
    "plt.axis(\"off\")\n",
    "plt.title('Verticales')\n",
    "#Verticales\n",
    "#Para visualizar convierte a escala manejable en una imagen de grises\n",
    "plt.imshow(cv2.convertScaleAbs(sobelx), cmap='gray') \n",
    "#plt.imshow(sobelx, cmap='gray') #Sin convertir escala\n",
    "\n",
    "plt.subplot(1, 4, 2)\n",
    "plt.axis(\"off\")\n",
    "plt.title('Horizontales')\n",
    "#Horizontales\n",
    "#Para visualizar convierte a escala manejable en una imagen de grises\n",
    "plt.imshow(cv2.convertScaleAbs(sobely), cmap='gray') \n",
    "#plt.imshow(sobelx, cmap='gray') #Sin convertir escala\n",
    "\n",
    "plt.subplot(1, 4, 3)\n",
    "plt.axis(\"off\")\n",
    "plt.title('Combinada')\n",
    "#Para visualizar convierte a escala manejable en una imagen de grises\n",
    "plt.imshow(cv2.convertScaleAbs(sobel), cmap='gray')\n",
    "\n",
    "plt.subplot(1, 4, 4)\n",
    "plt.axis(\"off\")\n",
    "plt.title('Sin convertir escala') \n",
    "plt.imshow(sobel, cmap='gray') #Sin convertir escala\n",
    "plt.show()"
   ]
  },
  {
   "cell_type": "markdown",
   "metadata": {},
   "source": [
    "TAREA: Elige otra imagen, muestra el contenido de alguna de las imágenes resultado de Sobel antes y después de ajustar la escala"
   ]
  },
  {
   "cell_type": "markdown",
   "metadata": {},
   "source": [
    "Umbralizado de una imagen"
   ]
  },
  {
   "cell_type": "code",
   "execution_count": null,
   "metadata": {},
   "outputs": [],
   "source": [
    "sobel = cv2.convertScaleAbs(sobel)\n",
    "#Define valor umbral\n",
    "valorUmbral = 175 #Prueba otros valores\n",
    "#Obtiene imagen umbralizada para dicho valor definido\n",
    "res, imagenUmbralizada = cv2.threshold(sobel, valorUmbral, 255, cv2.THRESH_BINARY)\n",
    "#Muestra resultado\n",
    "plt.imshow(imagenUmbralizada, cmap='gray') #Visualiza con mapa de color gris\n",
    "plt.show()\n",
    "\n",
    "col_counts = cv2.reduce(imagenUmbralizada, 0, cv2.REDUCE_SUM, dtype=cv2.CV_32SC1)\n",
    "row_counts = cv2.reduce(imagenUmbralizada, 1, cv2.REDUCE_SUM, dtype=cv2.CV_32SC1)\n",
    "\n",
    "#Normaliza en base al número de filas y al valor máximo del píxel (255)\n",
    "#El resultado será el número de píxeles blancos por columna\n",
    "cols = col_counts[0] / (255 * sobel.shape[0])\n",
    "rows = row_counts[:,0] / (255 * sobel.shape[1])\n",
    "\n",
    "# Encuentra el máximo valor para filas y columnas\n",
    "max_row_value = row_counts.max()\n",
    "max_col_value = col_counts.max()\n",
    "\n",
    "# Encuentra el umbral para superar el 95% del máximo\n",
    "threshold_row = 0.95 * max_row_value\n",
    "threshold_col = 0.95 * max_col_value\n",
    "\n",
    "# Encuentra el número de valores que superan el umbral para filas y columnas\n",
    "num_values_above_threshold_row = len(row_counts[row_counts > threshold_row])\n",
    "num_values_above_threshold_col = len(col_counts[col_counts > threshold_col])\n",
    "\n",
    "print(f\"El máximo valor para filas es: {max_row_value}\")\n",
    "print(f\"El máximo valor para columnas es: {max_col_value}\")\n",
    "print(f\"Número de valores que superan el 95% del máximo en filas: {num_values_above_threshold_row}\")\n",
    "print(f\"Número de valores que superan el 95% del máximo en columnas: {num_values_above_threshold_col}\")\n",
    "\n",
    "#Muestra dicha cuenta gráficamente\n",
    "plt.figure(figsize=(15, 5))\n",
    "plt.subplot(1, 2, 1)\n",
    "plt.title(\"Respuesta de Umbralizada\")\n",
    "plt.xlabel(\"Columnas\")\n",
    "plt.ylabel(\"% píxeles\")\n",
    "plt.plot(cols)\n",
    "\n",
    "plt.subplot(1, 2, 2)\n",
    "plt.title(\"Respuesta de Umbralizada\")\n",
    "plt.xlabel(\"Filas\")\n",
    "plt.ylabel(\"% píxeles\")\n",
    "plt.plot(rows)\n",
    "\n",
    "plt.subplots_adjust(wspace=0.4)  \n",
    "plt.subplots_adjust(hspace=0.4) \n",
    "\n",
    "#Rango en x definido por las columnas\n",
    "plt.xlim([0, canny.shape[0]])"
   ]
  },
  {
   "cell_type": "markdown",
   "metadata": {},
   "source": [
    "El histograma de una imagen aporta información sobre el valor de umbral a elegir para ciertas situaciones"
   ]
  },
  {
   "cell_type": "code",
   "execution_count": null,
   "metadata": {},
   "outputs": [],
   "source": [
    "#Cálculo del histograma de una imagen en escala de grises\n",
    "hist = cv2.calcHist([gris2], [0], None, [256], [0, 256])\n",
    "\n",
    "plt.figure()\n",
    "plt.axis(\"off\")\n",
    "plt.imshow(gris2, cmap='gray')\n",
    "\n",
    "# Histograma sin normalizar\n",
    "plt.figure()\n",
    "plt.subplot(1, 2, 1)\n",
    "plt.title(\"Histograma\")\n",
    "plt.xlabel(\"Bins\")\n",
    "plt.ylabel(\"# píxeles\")\n",
    "plt.plot(hist)\n",
    "plt.xlim([0, 256])\n",
    "\n",
    "#Normaliza el histograma en base al número de píxeles y lo muestra\n",
    "hist /= hist.sum()\n",
    "\n",
    "plt.subplot(1, 2, 2)\n",
    "plt.title(\"Histograma\")\n",
    "plt.xlabel(\"Bins\")\n",
    "plt.ylabel(\"% píxeles\")\n",
    "plt.tight_layout(pad=3.0) #separación entre plots\n",
    "plt.plot(hist)\n",
    "plt.xlim([0, 256])"
   ]
  },
  {
   "cell_type": "markdown",
   "metadata": {},
   "source": [
    "TAREA: Aplica umbralizado a la imagen resultante de Sobel (valores 0 a 255 y convertida a 8 bits por ejemplo sobel8 = np.uint8(sobel)), y posteriormente realiza el conteo por filas y columnas similar al realizado en el ejemplo con la salida de Canny. Calcula los máximos por filas y columnas, y determina las filas y columnas por encima del 0.95*máximo. Remarca con alguna primitiva gráfica dichas filas y columnas sobre la imagen ¿Cómo se comparan los resultados obtenidos a partir de Sobel y Canny?"
   ]
  },
  {
   "cell_type": "markdown",
   "metadata": {},
   "source": [
    "Diferencia de imágenes"
   ]
  },
  {
   "cell_type": "code",
   "execution_count": null,
   "metadata": {},
   "outputs": [],
   "source": [
    "#Calcula la diferencia entre dos imágenes\n",
    "#Utiliza la imagen original y la obtenida tras aplicar la gaussiana\n",
    "dif = cv2.absdiff(gris2, ggris)\n",
    "\n",
    "#Visualiza\n",
    "plt.figure(figsize=(15, 5))\n",
    "plt.subplot(1, 2, 1)\n",
    "plt.title(\"Diferencias\")\n",
    "plt.axis(\"off\")\n",
    "plt.imshow(dif, cmap='gray') \n",
    "\n",
    "#Zonas de mayor diferencia tras aplicar umbral\n",
    "res, imgdif = cv2.threshold(dif, 30, 255, cv2.THRESH_BINARY)\n",
    "#Visualiza\n",
    "plt.subplot(1, 2, 2)\n",
    "plt.title(\"Mayores\")\n",
    "plt.axis(\"off\")\n",
    "plt.imshow(imgdif, cmap='gray') \n",
    "plt.show()\n"
   ]
  },
  {
   "cell_type": "markdown",
   "metadata": {},
   "source": [
    "Webcam y sustracción de fotogramas"
   ]
  },
  {
   "cell_type": "code",
   "execution_count": null,
   "metadata": {},
   "outputs": [],
   "source": [
    "vid = cv2.VideoCapture(0)\n",
    "\n",
    "#Marca de inicio\n",
    "disponible = 0 \n",
    "while(True):      \n",
    "    # fotograma a fotograma\n",
    "    ret, frame = vid.read()\n",
    "\n",
    "    if ret:\n",
    "        if disponible > 0:\n",
    "            dif = cv2.absdiff(frame, pframe)        \n",
    "            # Muestra resultado\n",
    "            cv2.imshow('Diferencia', dif)        \n",
    "\n",
    "        else:\n",
    "            disponible = 1\n",
    "\n",
    "        #Copia fotograma actual para la diferencia en el siguiente forograma\n",
    "        pframe = frame.copy()\n",
    "    # Detenemos pulsado ESC\n",
    "    if cv2.waitKey(20) == 27:\n",
    "        break\n",
    "  \n",
    "# Libera el objeto de captura\n",
    "vid.release()\n",
    "# Destruye ventanas\n",
    "cv2.destroyAllWindows()"
   ]
  },
  {
   "cell_type": "markdown",
   "metadata": {},
   "source": [
    "Webcam y sustracción de modelo del fondo"
   ]
  },
  {
   "cell_type": "code",
   "execution_count": null,
   "metadata": {},
   "outputs": [],
   "source": [
    "vid = cv2.VideoCapture(0)\n",
    "\n",
    "\n",
    "# Fondo\n",
    "# Inicializa la sustracción del fondo con mezcla de gaussianas y detección de sombras\n",
    "eliminadorFondo = cv2.createBackgroundSubtractorMOG2(history=100, varThreshold=50, detectShadows=True)\n",
    "  \n",
    "\n",
    "\n",
    "while(True):      \n",
    "    # fotograma a fotograma\n",
    "    ret, frame = vid.read()\n",
    "\n",
    "    if ret:\n",
    "        # Aplica efecto espejo sobre la entrada\n",
    "        framem=cv2.flip(frame, 1)\n",
    "\n",
    "        \n",
    "        #Con un segundo parámerto se puede definir máscara con zonas a actualizar\n",
    "        objetos = eliminadorFondo.apply(framem)\n",
    "        #objetos = eliminadorFondo.apply(framem, objetos, 0)  #No actualiza el fondo\n",
    "        # Obtiene fondo\n",
    "        background = eliminadorFondo.getBackgroundImage()\n",
    "\n",
    "        # Muestra resultado\n",
    "        cv2.imshow('Fotograma', objetos)\n",
    "        # Muestra fondo\n",
    "        cv2.imshow('Fondo', background)\n",
    "  \n",
    "   \n",
    "    # Detenemos pulsado ESC\n",
    "    if cv2.waitKey(20) == 27:\n",
    "        break\n",
    "  \n",
    "# Libera el objeto de captura\n",
    "vid.release()\n",
    "# Destruye ventanas\n",
    "cv2.destroyAllWindows()"
   ]
  },
  {
   "cell_type": "markdown",
   "metadata": {},
   "source": [
    "\n",
    "TAREA: Asumiendo que quieren mostrar a personas que no forman parte del curso de VC el comportamiento de una o varias funcioens de las vistas hasta este momento aplicadas sobre la entrada de la webcam. ¿Cuál(es) escogerían?"
   ]
  },
  {
   "cell_type": "markdown",
   "metadata": {},
   "source": [
    "TAREA: Tras ver los vídeos [My little piece of privacy](https://www.niklasroy.com/project/88/my-little-piece-of-privacy), [Messa di voce](https://youtu.be/GfoqiyB1ndE?feature=shared) y [Virtual air guitar](https://youtu.be/FIAmyoEpV5c?feature=shared) propongan (los componentes de cada grupo) una reinterpretación del procesamiento de imágenes con las técnicas vistas o que conozcan."
   ]
  },
  {
   "cell_type": "code",
   "execution_count": 3,
   "metadata": {},
   "outputs": [],
   "source": [
    "# Inicializa la cámara\n",
    "vid = cv2.VideoCapture(0)\n",
    "\n",
    "# Número de fotogramas anteriores a mantener para el efecto de estela\n",
    "num_frames = 5\n",
    "prev_frames = []\n",
    "\n",
    "while True:\n",
    "    # Captura un fotograma\n",
    "    ret, frame = vid.read()\n",
    "    \n",
    "    if ret:\n",
    "        # Agrega el fotograma actual a la lista de fotogramas anteriores\n",
    "        prev_frames.append(frame.copy())\n",
    "        \n",
    "        # Mantiene solo los últimos N fotogramas\n",
    "        if len(prev_frames) > num_frames:\n",
    "            prev_frames.pop(0)\n",
    "        \n",
    "        # Combina los fotogramas anteriores para crear el efecto de estela\n",
    "        blended_frame = frame.copy()\n",
    "        alpha = 0.5  # Ajusta este valor según tu preferencia\n",
    "        for prev_frame in prev_frames:\n",
    "            blended_frame = cv2.addWeighted(blended_frame, 1 - alpha, prev_frame, alpha, 0)\n",
    "        \n",
    "        cv2.imshow('Vid', blended_frame)\n",
    "    \n",
    "    # Detener la ejecución con la tecla ESC\n",
    "    if cv2.waitKey(20) == 27:\n",
    "        break\n",
    "\n",
    "# Libera el objeto de captura\n",
    "vid.release()\n",
    "# Destruye ventanas\n",
    "cv2.destroyAllWindows()"
   ]
  }
 ],
 "metadata": {
  "kernelspec": {
   "display_name": "Python 3.7.3 ('FACES')",
   "language": "python",
   "name": "python3"
  },
  "language_info": {
   "codemirror_mode": {
    "name": "ipython",
    "version": 3
   },
   "file_extension": ".py",
   "mimetype": "text/x-python",
   "name": "python",
   "nbconvert_exporter": "python",
   "pygments_lexer": "ipython3",
   "version": "3.11.4"
  },
  "orig_nbformat": 4,
  "vscode": {
   "interpreter": {
    "hash": "ea3a1ee99ce326e593ddb52cd278556d527fcb6552c40e2a47b1efb9d0183637"
   }
  }
 },
 "nbformat": 4,
 "nbformat_minor": 2
}
